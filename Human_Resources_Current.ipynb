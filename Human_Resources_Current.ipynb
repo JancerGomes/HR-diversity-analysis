{
  "nbformat": 4,
  "nbformat_minor": 0,
  "metadata": {
    "kernelspec": {
      "name": "python36",
      "display_name": "Python 3.6",
      "language": "python"
    },
    "toc": {
      "nav_menu": {
        "height": "246px",
        "width": "392px"
      },
      "number_sections": false,
      "sideBar": true,
      "skip_h1_title": false,
      "base_numbering": 1,
      "title_cell": "Table of Contents",
      "title_sidebar": "Contents",
      "toc_cell": true,
      "toc_position": {
        "height": "calc(100% - 180px)",
        "left": "10px",
        "top": "150px",
        "width": "183px"
      },
      "toc_section_display": true,
      "toc_window_display": true
    },
    "varInspector": {
      "window_display": false,
      "cols": {
        "lenName": 16,
        "lenType": 16,
        "lenVar": 40
      },
      "kernels_config": {
        "python": {
          "library": "var_list.py",
          "delete_cmd_prefix": "del ",
          "delete_cmd_postfix": "",
          "varRefreshCmd": "print(var_dic_list())"
        },
        "r": {
          "library": "var_list.r",
          "delete_cmd_prefix": "rm(",
          "delete_cmd_postfix": ") ",
          "varRefreshCmd": "cat(var_dic_list()) "
        }
      },
      "types_to_exclude": [
        "module",
        "function",
        "builtin_function_or_method",
        "instance",
        "_Feature"
      ]
    },
    "language_info": {
      "mimetype": "text/x-python",
      "nbconvert_exporter": "python",
      "name": "python",
      "pygments_lexer": "ipython3",
      "version": "3.6.6",
      "file_extension": ".py",
      "codemirror_mode": {
        "version": 3,
        "name": "ipython"
      }
    },
    "hide_input": false,
    "colab": {
      "name": "Human Resources Current.ipynb",
      "provenance": [],
      "collapsed_sections": [],
      "toc_visible": true,
      "include_colab_link": true
    }
  },
  "cells": [
    {
      "cell_type": "markdown",
      "metadata": {
        "id": "view-in-github",
        "colab_type": "text"
      },
      "source": [
        "<a href=\"https://colab.research.google.com/github/JancerGomes/HR-diversity-overview/blob/master/Human_Resources_Current.ipynb\" target=\"_parent\"><img src=\"https://colab.research.google.com/assets/colab-badge.svg\" alt=\"Open In Colab\"/></a>"
      ]
    },
    {
      "cell_type": "markdown",
      "metadata": {
        "id": "gLj_pGCK19lv",
        "colab_type": "text"
      },
      "source": [
        "# Human Resources Diversity Analysis\n",
        "\n",
        "In this notebook - my debut project - we'll be analyzing a Human Resources synthetic dataset made available on Kaggle, from a make-believe company called Dental Magic.\n",
        "I have selected some of the questions provided in the dataset page (https://www.kaggle.com/rhuebner/human-resources-data-set?rvi=1), here they are:\n",
        "\n",
        "1. What are our best recruiting sources if we want to ensure a diverse organization?\n",
        "2. Are there areas of the company where pay is not equitable?\n",
        "3. What is the overall diversity profile of the organization?\n",
        "\n",
        "We will be analyzing each matter with regards to race, sex, immigration status and age."
      ]
    },
    {
      "cell_type": "markdown",
      "metadata": {
        "hide_input": false,
        "id": "CIeqAgF819lx",
        "colab_type": "text"
      },
      "source": [
        "## Importing essential libraries\n",
        "These are standard libraries for EDA. Here we go:"
      ]
    },
    {
      "cell_type": "code",
      "metadata": {
        "trusted": true,
        "id": "RdycIm-A19lz",
        "colab_type": "code",
        "colab": {
          "base_uri": "https://localhost:8080/",
          "height": 71
        },
        "outputId": "f5aaa711-1a6f-4e03-a122-7289e120ee44"
      },
      "source": [
        "import matplotlib.pyplot as plt\n",
        "import seaborn as sns\n",
        "import pandas as pd\n",
        "import numpy as np\n",
        "%matplotlib inline"
      ],
      "execution_count": 2,
      "outputs": [
        {
          "output_type": "stream",
          "text": [
            "/usr/local/lib/python3.6/dist-packages/statsmodels/tools/_testing.py:19: FutureWarning: pandas.util.testing is deprecated. Use the functions in the public API at pandas.testing instead.\n",
            "  import pandas.util.testing as tm\n"
          ],
          "name": "stderr"
        }
      ]
    },
    {
      "cell_type": "markdown",
      "metadata": {
        "id": "dqYrCoeZ19l8",
        "colab_type": "text"
      },
      "source": [
        "## Exploring the data\n",
        "### First Look"
      ]
    },
    {
      "cell_type": "code",
      "metadata": {
        "cell_style": "center",
        "trusted": true,
        "id": "GVxghJ6A19l-",
        "colab_type": "code",
        "colab": {
          "base_uri": "https://localhost:8080/",
          "height": 391
        },
        "outputId": "ce5f6747-ba40-4dc9-df7b-644f4d94ab22"
      },
      "source": [
        "hr_data = pd.read_csv('humanresources.csv')\n",
        "hr_data.info()"
      ],
      "execution_count": 3,
      "outputs": [
        {
          "output_type": "error",
          "ename": "FileNotFoundError",
          "evalue": "ignored",
          "traceback": [
            "\u001b[0;31m---------------------------------------------------------------------------\u001b[0m",
            "\u001b[0;31mFileNotFoundError\u001b[0m                         Traceback (most recent call last)",
            "\u001b[0;32m<ipython-input-3-33ae64901ce6>\u001b[0m in \u001b[0;36m<module>\u001b[0;34m()\u001b[0m\n\u001b[0;32m----> 1\u001b[0;31m \u001b[0mhr_data\u001b[0m \u001b[0;34m=\u001b[0m \u001b[0mpd\u001b[0m\u001b[0;34m.\u001b[0m\u001b[0mread_csv\u001b[0m\u001b[0;34m(\u001b[0m\u001b[0;34m'humanresources.csv'\u001b[0m\u001b[0;34m)\u001b[0m\u001b[0;34m\u001b[0m\u001b[0;34m\u001b[0m\u001b[0m\n\u001b[0m\u001b[1;32m      2\u001b[0m \u001b[0mhr_data\u001b[0m\u001b[0;34m.\u001b[0m\u001b[0minfo\u001b[0m\u001b[0;34m(\u001b[0m\u001b[0;34m)\u001b[0m\u001b[0;34m\u001b[0m\u001b[0;34m\u001b[0m\u001b[0m\n",
            "\u001b[0;32m/usr/local/lib/python3.6/dist-packages/pandas/io/parsers.py\u001b[0m in \u001b[0;36mparser_f\u001b[0;34m(filepath_or_buffer, sep, delimiter, header, names, index_col, usecols, squeeze, prefix, mangle_dupe_cols, dtype, engine, converters, true_values, false_values, skipinitialspace, skiprows, skipfooter, nrows, na_values, keep_default_na, na_filter, verbose, skip_blank_lines, parse_dates, infer_datetime_format, keep_date_col, date_parser, dayfirst, cache_dates, iterator, chunksize, compression, thousands, decimal, lineterminator, quotechar, quoting, doublequote, escapechar, comment, encoding, dialect, error_bad_lines, warn_bad_lines, delim_whitespace, low_memory, memory_map, float_precision)\u001b[0m\n\u001b[1;32m    674\u001b[0m         )\n\u001b[1;32m    675\u001b[0m \u001b[0;34m\u001b[0m\u001b[0m\n\u001b[0;32m--> 676\u001b[0;31m         \u001b[0;32mreturn\u001b[0m \u001b[0m_read\u001b[0m\u001b[0;34m(\u001b[0m\u001b[0mfilepath_or_buffer\u001b[0m\u001b[0;34m,\u001b[0m \u001b[0mkwds\u001b[0m\u001b[0;34m)\u001b[0m\u001b[0;34m\u001b[0m\u001b[0;34m\u001b[0m\u001b[0m\n\u001b[0m\u001b[1;32m    677\u001b[0m \u001b[0;34m\u001b[0m\u001b[0m\n\u001b[1;32m    678\u001b[0m     \u001b[0mparser_f\u001b[0m\u001b[0;34m.\u001b[0m\u001b[0m__name__\u001b[0m \u001b[0;34m=\u001b[0m \u001b[0mname\u001b[0m\u001b[0;34m\u001b[0m\u001b[0;34m\u001b[0m\u001b[0m\n",
            "\u001b[0;32m/usr/local/lib/python3.6/dist-packages/pandas/io/parsers.py\u001b[0m in \u001b[0;36m_read\u001b[0;34m(filepath_or_buffer, kwds)\u001b[0m\n\u001b[1;32m    446\u001b[0m \u001b[0;34m\u001b[0m\u001b[0m\n\u001b[1;32m    447\u001b[0m     \u001b[0;31m# Create the parser.\u001b[0m\u001b[0;34m\u001b[0m\u001b[0;34m\u001b[0m\u001b[0;34m\u001b[0m\u001b[0m\n\u001b[0;32m--> 448\u001b[0;31m     \u001b[0mparser\u001b[0m \u001b[0;34m=\u001b[0m \u001b[0mTextFileReader\u001b[0m\u001b[0;34m(\u001b[0m\u001b[0mfp_or_buf\u001b[0m\u001b[0;34m,\u001b[0m \u001b[0;34m**\u001b[0m\u001b[0mkwds\u001b[0m\u001b[0;34m)\u001b[0m\u001b[0;34m\u001b[0m\u001b[0;34m\u001b[0m\u001b[0m\n\u001b[0m\u001b[1;32m    449\u001b[0m \u001b[0;34m\u001b[0m\u001b[0m\n\u001b[1;32m    450\u001b[0m     \u001b[0;32mif\u001b[0m \u001b[0mchunksize\u001b[0m \u001b[0;32mor\u001b[0m \u001b[0miterator\u001b[0m\u001b[0;34m:\u001b[0m\u001b[0;34m\u001b[0m\u001b[0;34m\u001b[0m\u001b[0m\n",
            "\u001b[0;32m/usr/local/lib/python3.6/dist-packages/pandas/io/parsers.py\u001b[0m in \u001b[0;36m__init__\u001b[0;34m(self, f, engine, **kwds)\u001b[0m\n\u001b[1;32m    878\u001b[0m             \u001b[0mself\u001b[0m\u001b[0;34m.\u001b[0m\u001b[0moptions\u001b[0m\u001b[0;34m[\u001b[0m\u001b[0;34m\"has_index_names\"\u001b[0m\u001b[0;34m]\u001b[0m \u001b[0;34m=\u001b[0m \u001b[0mkwds\u001b[0m\u001b[0;34m[\u001b[0m\u001b[0;34m\"has_index_names\"\u001b[0m\u001b[0;34m]\u001b[0m\u001b[0;34m\u001b[0m\u001b[0;34m\u001b[0m\u001b[0m\n\u001b[1;32m    879\u001b[0m \u001b[0;34m\u001b[0m\u001b[0m\n\u001b[0;32m--> 880\u001b[0;31m         \u001b[0mself\u001b[0m\u001b[0;34m.\u001b[0m\u001b[0m_make_engine\u001b[0m\u001b[0;34m(\u001b[0m\u001b[0mself\u001b[0m\u001b[0;34m.\u001b[0m\u001b[0mengine\u001b[0m\u001b[0;34m)\u001b[0m\u001b[0;34m\u001b[0m\u001b[0;34m\u001b[0m\u001b[0m\n\u001b[0m\u001b[1;32m    881\u001b[0m \u001b[0;34m\u001b[0m\u001b[0m\n\u001b[1;32m    882\u001b[0m     \u001b[0;32mdef\u001b[0m \u001b[0mclose\u001b[0m\u001b[0;34m(\u001b[0m\u001b[0mself\u001b[0m\u001b[0;34m)\u001b[0m\u001b[0;34m:\u001b[0m\u001b[0;34m\u001b[0m\u001b[0;34m\u001b[0m\u001b[0m\n",
            "\u001b[0;32m/usr/local/lib/python3.6/dist-packages/pandas/io/parsers.py\u001b[0m in \u001b[0;36m_make_engine\u001b[0;34m(self, engine)\u001b[0m\n\u001b[1;32m   1112\u001b[0m     \u001b[0;32mdef\u001b[0m \u001b[0m_make_engine\u001b[0m\u001b[0;34m(\u001b[0m\u001b[0mself\u001b[0m\u001b[0;34m,\u001b[0m \u001b[0mengine\u001b[0m\u001b[0;34m=\u001b[0m\u001b[0;34m\"c\"\u001b[0m\u001b[0;34m)\u001b[0m\u001b[0;34m:\u001b[0m\u001b[0;34m\u001b[0m\u001b[0;34m\u001b[0m\u001b[0m\n\u001b[1;32m   1113\u001b[0m         \u001b[0;32mif\u001b[0m \u001b[0mengine\u001b[0m \u001b[0;34m==\u001b[0m \u001b[0;34m\"c\"\u001b[0m\u001b[0;34m:\u001b[0m\u001b[0;34m\u001b[0m\u001b[0;34m\u001b[0m\u001b[0m\n\u001b[0;32m-> 1114\u001b[0;31m             \u001b[0mself\u001b[0m\u001b[0;34m.\u001b[0m\u001b[0m_engine\u001b[0m \u001b[0;34m=\u001b[0m \u001b[0mCParserWrapper\u001b[0m\u001b[0;34m(\u001b[0m\u001b[0mself\u001b[0m\u001b[0;34m.\u001b[0m\u001b[0mf\u001b[0m\u001b[0;34m,\u001b[0m \u001b[0;34m**\u001b[0m\u001b[0mself\u001b[0m\u001b[0;34m.\u001b[0m\u001b[0moptions\u001b[0m\u001b[0;34m)\u001b[0m\u001b[0;34m\u001b[0m\u001b[0;34m\u001b[0m\u001b[0m\n\u001b[0m\u001b[1;32m   1115\u001b[0m         \u001b[0;32melse\u001b[0m\u001b[0;34m:\u001b[0m\u001b[0;34m\u001b[0m\u001b[0;34m\u001b[0m\u001b[0m\n\u001b[1;32m   1116\u001b[0m             \u001b[0;32mif\u001b[0m \u001b[0mengine\u001b[0m \u001b[0;34m==\u001b[0m \u001b[0;34m\"python\"\u001b[0m\u001b[0;34m:\u001b[0m\u001b[0;34m\u001b[0m\u001b[0;34m\u001b[0m\u001b[0m\n",
            "\u001b[0;32m/usr/local/lib/python3.6/dist-packages/pandas/io/parsers.py\u001b[0m in \u001b[0;36m__init__\u001b[0;34m(self, src, **kwds)\u001b[0m\n\u001b[1;32m   1889\u001b[0m         \u001b[0mkwds\u001b[0m\u001b[0;34m[\u001b[0m\u001b[0;34m\"usecols\"\u001b[0m\u001b[0;34m]\u001b[0m \u001b[0;34m=\u001b[0m \u001b[0mself\u001b[0m\u001b[0;34m.\u001b[0m\u001b[0musecols\u001b[0m\u001b[0;34m\u001b[0m\u001b[0;34m\u001b[0m\u001b[0m\n\u001b[1;32m   1890\u001b[0m \u001b[0;34m\u001b[0m\u001b[0m\n\u001b[0;32m-> 1891\u001b[0;31m         \u001b[0mself\u001b[0m\u001b[0;34m.\u001b[0m\u001b[0m_reader\u001b[0m \u001b[0;34m=\u001b[0m \u001b[0mparsers\u001b[0m\u001b[0;34m.\u001b[0m\u001b[0mTextReader\u001b[0m\u001b[0;34m(\u001b[0m\u001b[0msrc\u001b[0m\u001b[0;34m,\u001b[0m \u001b[0;34m**\u001b[0m\u001b[0mkwds\u001b[0m\u001b[0;34m)\u001b[0m\u001b[0;34m\u001b[0m\u001b[0;34m\u001b[0m\u001b[0m\n\u001b[0m\u001b[1;32m   1892\u001b[0m         \u001b[0mself\u001b[0m\u001b[0;34m.\u001b[0m\u001b[0munnamed_cols\u001b[0m \u001b[0;34m=\u001b[0m \u001b[0mself\u001b[0m\u001b[0;34m.\u001b[0m\u001b[0m_reader\u001b[0m\u001b[0;34m.\u001b[0m\u001b[0munnamed_cols\u001b[0m\u001b[0;34m\u001b[0m\u001b[0;34m\u001b[0m\u001b[0m\n\u001b[1;32m   1893\u001b[0m \u001b[0;34m\u001b[0m\u001b[0m\n",
            "\u001b[0;32mpandas/_libs/parsers.pyx\u001b[0m in \u001b[0;36mpandas._libs.parsers.TextReader.__cinit__\u001b[0;34m()\u001b[0m\n",
            "\u001b[0;32mpandas/_libs/parsers.pyx\u001b[0m in \u001b[0;36mpandas._libs.parsers.TextReader._setup_parser_source\u001b[0;34m()\u001b[0m\n",
            "\u001b[0;31mFileNotFoundError\u001b[0m: [Errno 2] File humanresources.csv does not exist: 'humanresources.csv'"
          ]
        }
      ]
    },
    {
      "cell_type": "code",
      "metadata": {
        "id": "l01Th73CL1W6",
        "colab_type": "code",
        "colab": {}
      },
      "source": [
        "from google.colab import drive\n",
        "drive.mount('/content/drive')"
      ],
      "execution_count": null,
      "outputs": []
    },
    {
      "cell_type": "code",
      "metadata": {
        "cell_style": "center",
        "scrolled": true,
        "trusted": true,
        "id": "8AcT_ReA19mI",
        "colab_type": "code",
        "colab": {}
      },
      "source": [
        "# Lots of empty rows. Some cleaning now:\n",
        "hr_data.dropna(how='all', inplace=True)"
      ],
      "execution_count": null,
      "outputs": []
    },
    {
      "cell_type": "markdown",
      "metadata": {
        "id": "cIWCt1ii19mP",
        "colab_type": "text"
      },
      "source": [
        "### Racial Diversity"
      ]
    },
    {
      "cell_type": "code",
      "metadata": {
        "trusted": true,
        "scrolled": true,
        "id": "AmkBiH4r19mR",
        "colab_type": "code",
        "colab": {}
      },
      "source": [
        "# A first look at the racial diversity situation - both in absolute and percentual figures:\n",
        "display(hr_data.RaceDesc.value_counts(),\n",
        "        hr_data.RaceDesc.value_counts(normalize=True) * 100)"
      ],
      "execution_count": null,
      "outputs": []
    },
    {
      "cell_type": "markdown",
      "metadata": {
        "id": "SyHYvae119mZ",
        "colab_type": "text"
      },
      "source": [
        "According to 2018 data by the U.S Bureau of Labor Statistics, the country's labor force is made of 78% Whites, 13% Blacks and 6% Asians (https://www.bls.gov/opub/reports/race-and-ethnicity/2018/home.htm). Taking that as a baseline, we can say that the company is diverse from a racial standpoint.\n",
        "\n",
        "**Let's see which recruitment sources hire the most non-white employees:**"
      ]
    },
    {
      "cell_type": "code",
      "metadata": {
        "trusted": true,
        "scrolled": false,
        "id": "bpm3hL1419ma",
        "colab_type": "code",
        "colab": {}
      },
      "source": [
        "hr_data['Non-white'] = (hr_data['RaceDesc'] != 'White')\n",
        "fig = plt.figure(figsize=(6, 6)), sns.set_style('whitegrid')\n",
        "ax = sns.barplot(data=hr_data, y='RecruitmentSource', x='Non-white', ci=None, palette='Set2')\n",
        "ax.set_xlabel('Non-white proportion'), ax.set_ylabel('Recruitment Source');"
      ],
      "execution_count": null,
      "outputs": []
    },
    {
      "cell_type": "markdown",
      "metadata": {
        "id": "1pKI-F0-19mi",
        "colab_type": "text"
      },
      "source": [
        "Unsurprisingly, **Diversity Job Fair** plays a crucial role in promoting racial diversity. **Indeed and On-campus Recruiting** can also be lauded for bringing non-white employees more often than not. \n",
        "\n",
        "On the other hand, **Pay Per Click, On-line Web application, Careerbuilder and Company Intranet** have no contribution to racial diversity at all.\n",
        "\n",
        "\n",
        "Of course, **respect to diversity includes egalitarian compensation, regardless of skin color.** Let's take a look at that now."
      ]
    },
    {
      "cell_type": "code",
      "metadata": {
        "trusted": true,
        "id": "eyMQ9ilY19mk",
        "colab_type": "code",
        "colab": {}
      },
      "source": [
        "plt.figure(figsize=(6, 6))\n",
        "ax = sns.boxplot(data=hr_data, x='RaceDesc', y='PayRate', palette='Set2')\n",
        "ax.set_xticklabels(hr_data.RaceDesc.unique(), rotation=90)\n",
        "sns.pointplot(data=hr_data, x='RaceDesc', y='PayRate', join=False, ci=None, ax=ax);\n",
        "ax.set_xlabel('Races'), ax.set_ylabel('Hourly pay rate');"
      ],
      "execution_count": null,
      "outputs": []
    },
    {
      "cell_type": "markdown",
      "metadata": {
        "id": "CE4wl2U319mv",
        "colab_type": "text"
      },
      "source": [
        "There are a few differences in median and mean payment across races. For instance, Hispanics are placed a bit higher. This does _not_, however, seem particularly problematic. Let's look at each department."
      ]
    },
    {
      "cell_type": "code",
      "metadata": {
        "trusted": true,
        "id": "HvMKtNRj19mx",
        "colab_type": "code",
        "colab": {}
      },
      "source": [
        "g = sns.catplot(data=hr_data, x='RaceDesc', col_wrap=2,\n",
        "                y='PayRate', col='Department', kind='box', palette='Set2')\n",
        "g.set_xticklabels(hr_data.RaceDesc.unique(), rotation=90)\n",
        "g.set_xlabels('Race'), g.set_ylabels('Hourly pay rate')\n",
        "g.fig.suptitle(\n",
        "    'Pay rate ditribution by race group in each department', fontsize=16)\n",
        "g.set_titles('{col_name}')\n",
        "plt.subplots_adjust(top=0.95)"
      ],
      "execution_count": null,
      "outputs": []
    },
    {
      "cell_type": "markdown",
      "metadata": {
        "id": "lomnfQU119m3",
        "colab_type": "text"
      },
      "source": [
        "An in-depth look at each department shows that payment is generally egalitarian. **The exception is *IT/IS*, wherein those of *two or more races* have a diminished pay rate.** Why is that? Are these workers in low-paid positions?"
      ]
    },
    {
      "cell_type": "code",
      "metadata": {
        "id": "Vmq0SM98Vyiu",
        "colab_type": "code",
        "colab": {}
      },
      "source": [
        "ax = sns.scatterplot('PayRate', 'Position', 'RaceDesc', data=hr_data.loc[hr_data.Department=='IT/IS'],\n",
        "                     palette='Set2', style='RaceDesc',size='RaceDesc', sizes=[40, 40, 40, 120, 40]);\n",
        "ax.legend(bbox_to_anchor=(1, 1)); ax.set_xlabel('Hourly pay rate');"
      ],
      "execution_count": null,
      "outputs": []
    },
    {
      "cell_type": "markdown",
      "metadata": {
        "id": "_zJ34tTCcYr2",
        "colab_type": "text"
      },
      "source": [
        "The plot reveals that employees of this race group are actually being paid lower than colleagues in the same position. This could be the result of discriminatory practices. Let's investigate further to see if there are any reasonable causes for the wage gap:"
      ]
    },
    {
      "cell_type": "code",
      "metadata": {
        "id": "TxpAEV9cecXt",
        "colab_type": "code",
        "colab": {}
      },
      "source": [
        "# Filtering only rows that contain \"two or more races\" workers\n",
        "position_rows = hr_data.Position.isin(['IT Support', 'IT Manager - DB'])\n",
        "perf_indicators = ['RaceDesc','Position', 'PerformanceScore', 'SpecialProjectsCount', 'DaysLateLast30','EngagementSurvey']\n",
        "it_is_lookup = hr_data.loc[position_rows, perf_indicators].sort_values(['Position','RaceDesc']).set_index('RaceDesc')\n",
        "it_is_lookup"
      ],
      "execution_count": null,
      "outputs": []
    },
    {
      "cell_type": "markdown",
      "metadata": {
        "id": "Ts6WjDPssYO9",
        "colab_type": "text"
      },
      "source": [
        "The perfomance of *two or more races* employees is rather levelled with that of colleagues in the same position, yet their pay rates are the lower than any other. **As far as the dataset goes, this points to the existence of discrimination.**"
      ]
    },
    {
      "cell_type": "markdown",
      "metadata": {
        "id": "4vZUF-8QcWc5",
        "colab_type": "text"
      },
      "source": [
        "---\n",
        "**DISCLAIMER: here and throughout the end of this analysis, there is an observation that distinguishes itself from the others: at Executive Office, we find the President & CEO of the company, who is naturally the most well-paid. Take a look at her:**"
      ]
    },
    {
      "cell_type": "code",
      "metadata": {
        "trusted": true,
        "id": "jjyQ-Y7B19m5",
        "colab_type": "code",
        "colab": {}
      },
      "source": [
        "hr_data.loc[hr_data['Department'] == 'Executive Office'] "
      ],
      "execution_count": null,
      "outputs": []
    },
    {
      "cell_type": "markdown",
      "metadata": {
        "id": "GfBs30Nm19m_",
        "colab_type": "text"
      },
      "source": [
        "### Gender Equality"
      ]
    },
    {
      "cell_type": "code",
      "metadata": {
        "trusted": true,
        "id": "2x9qNQfM19nB",
        "colab_type": "code",
        "colab": {}
      },
      "source": [
        "# For clarity:\n",
        "hr_data.replace({'Sex': {'F': 'Female', 'M ': 'Male'}}, inplace=True)\n",
        "# Now, to an overview in gender distribution:\n",
        "display(hr_data.Sex.value_counts(),'\\n', (hr_data.Sex.value_counts(normalize=True) * 100))"
      ],
      "execution_count": null,
      "outputs": []
    },
    {
      "cell_type": "markdown",
      "metadata": {
        "id": "lIWiLNQ519nH",
        "colab_type": "text"
      },
      "source": [
        "The numbers are balanced, and **most employees are female.** \n",
        "\n",
        "Taking a look at each department now:"
      ]
    },
    {
      "cell_type": "code",
      "metadata": {
        "trusted": true,
        "id": "qd_JlXuE19nJ",
        "colab_type": "code",
        "colab": {}
      },
      "source": [
        "# By department\n",
        "g = sns.catplot(data=hr_data, x='Sex', col='Department',\n",
        "                col_wrap=2, palette='Spectral', kind='count')\n",
        "g.set_xlabels('Gender'), g.set_ylabels('# of employees')\n",
        "g.fig.suptitle(\n",
        "    'Employee count by gender in each department', fontsize=16)\n",
        "g.set_titles('{col_name}')\n",
        "plt.subplots_adjust(top=0.95)"
      ],
      "execution_count": null,
      "outputs": []
    },
    {
      "cell_type": "markdown",
      "metadata": {
        "id": "USr5A4EV19nT",
        "colab_type": "text"
      },
      "source": [
        "We can see that the numeric difference stems from the *Production department*, where women outnumber men by 50%.\n",
        "\n",
        "**But are female employees getting equal pay?**"
      ]
    },
    {
      "cell_type": "code",
      "metadata": {
        "trusted": true,
        "id": "duBZK2-e19nU",
        "colab_type": "code",
        "colab": {}
      },
      "source": [
        "GenderPay = hr_data.groupby('Sex')[['PayRate']]\n",
        "display(GenderPay.agg(['mean', 'median']))"
      ],
      "execution_count": null,
      "outputs": []
    },
    {
      "cell_type": "markdown",
      "metadata": {
        "id": "lwNOiWi719nb",
        "colab_type": "text"
      },
      "source": [
        "**That's a *no*.** Women's income is lower in general.\n",
        "\n",
        "How does that distribute across departments?"
      ]
    },
    {
      "cell_type": "code",
      "metadata": {
        "scrolled": false,
        "trusted": true,
        "id": "YDR9g_Fa19nc",
        "colab_type": "code",
        "colab": {}
      },
      "source": [
        "# Removing whitespace in 'Production':\n",
        "hr_data['Department'] = hr_data['Department'].str.strip()\n",
        "plt.figure(figsize=(8, 6))\n",
        "ax = sns.pointplot(data=hr_data, x='Department', y='PayRate',\n",
        "                   hue='Sex', palette='Spectral' , join=False)\n",
        "ax.set_xticklabels(hr_data.Department.unique(), rotation=45,\n",
        "                   horizontalalignment='right');\n",
        "ax.set_title(\"Average pay rate by department\"), ax.set_ylabel(\n",
        "    'Hourly pay rate');"
      ],
      "execution_count": null,
      "outputs": []
    },
    {
      "cell_type": "markdown",
      "metadata": {
        "id": "b42OvuDK19nk",
        "colab_type": "text"
      },
      "source": [
        "At the plot, we identify some divergences in average pay by gender. Women's average pay is quite higher at Software Engineering department. However, it is important to note that only a handful of employees work there, in such a way that it doesn't affect the overall statistics so much.\n",
        "\n",
        "On the other hand, *Production* plays a big part in broadening the wage gap because:\n",
        "1. the department has the lowest pay rate; \n",
        "2. this decreases female mean compensation by a lot, **since it contains the largest number of workers, most of them being women**;\n",
        "3. considering the employee amount, even though the inequality within Production itself isn't great, it ends up making a significant impact.\n",
        "\n",
        "**We can see a substantial wage gap at Admin Offices**; there, women's average income is much lower than men's.\n",
        "\n",
        "It demands some examining:"
      ]
    },
    {
      "cell_type": "code",
      "metadata": {
        "trusted": true,
        "id": "TBl3qTgk19nl",
        "colab_type": "code",
        "colab": {}
      },
      "source": [
        "ax = sns.stripplot(x='Position', y='PayRate', hue='Sex',\n",
        "                   data=hr_data[hr_data.Department == 'Admin Offices'],\n",
        "                  palette='Spectral')\n",
        "ax.set_ylabel('Pay rate'), ax.set_title('Pay rate at Production department')\n",
        "ax.set_xticklabels(ax.get_xticklabels(), rotation=45, horizontalalignment='right');"
      ],
      "execution_count": null,
      "outputs": []
    },
    {
      "cell_type": "markdown",
      "metadata": {
        "id": "DFGkkEwn19nr",
        "colab_type": "text"
      },
      "source": [
        "An in-depth analysis reveals that the wage disparity at Admin Offices, the largest throughout departments, comes from the presence of an outlier: a male worker that acts as Shared Services Manager. \n",
        "\n",
        "Among those whose title is Accountant I, the female employee's pay rate is only marginally lower than that of a male colleague. We can also see that only women work as Sr. Accountants, **which shows that females aren't kept away from higher positions in this department**."
      ]
    },
    {
      "cell_type": "markdown",
      "metadata": {
        "id": "wkIXry9M19nt",
        "colab_type": "text"
      },
      "source": [
        "\n",
        "### Citizenship status\n",
        "For starters, we look at the employee distribution by citizenship status:"
      ]
    },
    {
      "cell_type": "code",
      "metadata": {
        "trusted": true,
        "id": "pIvIT_cs19nu",
        "colab_type": "code",
        "colab": {}
      },
      "source": [
        "# A bit of organization\n",
        "hr_data.replace({'CitizenDesc': {'US Citizen': 'US citizen',\n",
        "                                 'Eligible NonCitizen': 'Eligible non-citizen', 'Non-Citizen': 'Non-citizen'}}, inplace=True)\n",
        "hr_data['CitizenDesc'].value_counts()"
      ],
      "execution_count": null,
      "outputs": []
    },
    {
      "cell_type": "code",
      "metadata": {
        "trusted": true,
        "id": "0ApQT_nd19n0",
        "colab_type": "code",
        "colab": {}
      },
      "source": [
        "# Considering that the large majority of employees is composed of US citizens,\n",
        "# let's see how the few non-citizens are hired:\n",
        "ax = sns.countplot(data=hr_data.loc[hr_data['CitizenDesc'] != 'US citizen'],\n",
        "                   x='CitizenDesc', hue='RecruitmentSource', palette='Paired')\n",
        "ax.legend(bbox_to_anchor=(1, 1)),\n",
        "ax.figure.set_size_inches((5, 6))\n",
        "ax.set_xlabel('Citizenship status')\n",
        "ax.set_yticks([0, 1, 2]);"
      ],
      "execution_count": null,
      "outputs": []
    },
    {
      "cell_type": "markdown",
      "metadata": {
        "id": "pxUMOzek19n-",
        "colab_type": "text"
      },
      "source": [
        "Once again, *Diversity Job Fair* scores the highest. *Social networks, employee referral and search engines* also play their part in hiring non-citizens in general.\n",
        "Anyhow, **Dental Magic is not really diverse regarding this aspect.**\n",
        "\n",
        "How is the payroll configured when it comes to citizenship status?"
      ]
    },
    {
      "cell_type": "code",
      "metadata": {
        "scrolled": false,
        "trusted": true,
        "id": "L9KCpgr219n_",
        "colab_type": "code",
        "colab": {}
      },
      "source": [
        "ax = sns.swarmplot(data=hr_data, x='Department', y='PayRate',\n",
        "                   hue='CitizenDesc', palette='Set2')\n",
        "ax.figure.set_size_inches((7, 5))\n",
        "ax.legend(title='Citizenship status'), ax.set_ylabel('Pay rate')\n",
        "ax.set_xticklabels(ax.get_xticklabels(), rotation=45,\n",
        "                   horizontalalignment='right');"
      ],
      "execution_count": null,
      "outputs": []
    },
    {
      "cell_type": "markdown",
      "metadata": {
        "id": "628ZMKhf19oF",
        "colab_type": "text"
      },
      "source": [
        "The hourly pay rate for each non-citizen is always paired or very close to that of a US citizen — presumably a co-worker in a similar position. This leads to the conclusion that there is no wage gap between the groups."
      ]
    },
    {
      "cell_type": "markdown",
      "metadata": {
        "cell_style": "center",
        "id": "Gl-tmbip19oG",
        "colab_type": "text"
      },
      "source": [
        "### Age statistics\n",
        "Now, you might have noted that there's no age info in the dataset. Well, at least *not yet*.\n",
        "\n",
        "We can obtain it through the date of birth (DOB) column"
      ]
    },
    {
      "cell_type": "code",
      "metadata": {
        "trusted": true,
        "id": "04CDTbvW19oI",
        "colab_type": "code",
        "colab": {}
      },
      "source": [
        "# We can make our own age column.\n",
        "# But first, let's convert 'DOB' to datetime format, with a bit of chaining to keep just the date\n",
        "from dateutil.relativedelta import relativedelta\n",
        "hr_data['DOB'] = pd.to_datetime(hr_data['DOB']).dt.date.astype('datetime64')\n",
        "# No employees were born after year 2000, so DOBs like 2068 should have 100 years removed:\n",
        "hr_data.loc[hr_data.DOB.dt.year > 2000, 'DOB'] -= pd.DateOffset(years=100)\n",
        "# Now, to getting the age:\n",
        "hr_data['Age'] = pd.Series(dtype='int')\n",
        "for ind, date in hr_data.DOB.iteritems():\n",
        "    hr_data.loc[ind, 'Age'] = relativedelta(\n",
        "        pd.to_datetime('today'), date).years\n",
        "hr_data.Age = hr_data.Age.astype('int64')\n",
        "#Some summary statistics\n",
        "hr_data['Age'].apply(['min', 'median', 'max'])"
      ],
      "execution_count": null,
      "outputs": []
    },
    {
      "cell_type": "markdown",
      "metadata": {
        "id": "B1DW6gap19oP",
        "colab_type": "text"
      },
      "source": [
        "Now we have the employees' ages stored in a column. They range from 27 to 69; the median is 39."
      ]
    },
    {
      "cell_type": "code",
      "metadata": {
        "trusted": true,
        "id": "-5VxLbSz19oQ",
        "colab_type": "code",
        "colab": {}
      },
      "source": [
        "ax = sns.distplot(hr_data['Age'], kde=False)"
      ],
      "execution_count": null,
      "outputs": []
    },
    {
      "cell_type": "markdown",
      "metadata": {
        "trusted": true,
        "id": "aRlPNoik19oW",
        "colab_type": "text"
      },
      "source": [
        "The staff's ages are mainly at early to mid-30s, also counting high at early 40s.\n",
        "The number of employees is substantially lower from ages 50 and over, amounting only to no more than a few dozens.\n",
        "\n",
        "Considering how low the numbers go when it comes to older workers, it's important that we inquire how age diversity is promoted through recruiting."
      ]
    },
    {
      "cell_type": "code",
      "metadata": {
        "trusted": true,
        "id": "eIuI_pWL19oX",
        "colab_type": "code",
        "colab": {}
      },
      "source": [
        "ax = sns.countplot(data=hr_data.loc[hr_data['Age'] > 50],\n",
        "                   y='RecruitmentSource')\n",
        "ax.set_ylabel('Recruitment Source'), ax.set_xlabel('Employee count')\n",
        "ax.set_title('# of employees (ages 50+)');"
      ],
      "execution_count": null,
      "outputs": []
    },
    {
      "cell_type": "markdown",
      "metadata": {
        "trusted": true,
        "id": "yBKx5VQv19oc",
        "colab_type": "text"
      },
      "source": [
        "Again, **Diversity Job Fair** scores the highest, tied with **employee referral**. Search **engines, billboards and Monster.com** also brought some of the older employees.\n",
        "\n",
        "**Are salaries subject to *ageism* at Dental Magic?** It is necessary to take a look at how mature workers are being payed."
      ]
    },
    {
      "cell_type": "code",
      "metadata": {
        "trusted": true,
        "id": "wYRZZgsc19od",
        "colab_type": "code",
        "cellView": "both",
        "colab": {}
      },
      "source": [
        "g = sns.relplot('Age', 'PayRate', col='Department', col_wrap=2, data=hr_data, color='purple')\n",
        "g.set_xlabels('Age'), g.set_ylabels('Hourly pay rate')\n",
        "g.fig.suptitle(\n",
        "    'Age x Pay rate across departments', fontsize=16)\n",
        "g.set_titles('{col_name}')\n",
        "plt.subplots_adjust(top=0.95)"
      ],
      "execution_count": null,
      "outputs": []
    },
    {
      "cell_type": "markdown",
      "metadata": {
        "id": "I-TZ5Umz19oj",
        "colab_type": "text"
      },
      "source": [
        "We saw before that the employee count goes down for ages 50 and over. In *Production*, we can see that **salaries also go down for employees who are about 55 or older**: they have a pay rate below 35, whereas some younger workers get as high as $60/hour. This calls for a more detailed analysis of this specific division."
      ]
    },
    {
      "cell_type": "code",
      "metadata": {
        "id": "ZDcqdcf9NHUz",
        "colab_type": "code",
        "colab": {}
      },
      "source": [
        "agegroups= pd.cut(hr_data.Age, [25,40,55,70])\n",
        "ax = sns.boxplot('PayRate', 'Position', agegroups, \n",
        "                   data=hr_data.loc[hr_data.Department=='Production'], palette='Dark2') ;\n",
        "ax.set_xlabel('Hourly pay rate');"
      ],
      "execution_count": null,
      "outputs": []
    },
    {
      "cell_type": "markdown",
      "metadata": {
        "id": "40JxwN6zj4ib",
        "colab_type": "text"
      },
      "source": [
        "The graph clarifies that it is generally not the case that older workers are getting a lower salary than their position's average. **Matures' pay rates are limited because almost all of them work in lesser functions (Production Technician I and II).**"
      ]
    },
    {
      "cell_type": "markdown",
      "metadata": {
        "id": "TSU75zbdl7WX",
        "colab_type": "text"
      },
      "source": [
        "**In *Software Engineering*, there is an outlier: a worker just over 50 years old, whose pay rate is much lower than that of younger colleagues**. We will now take a closer look at the department to shed light on the matter."
      ]
    },
    {
      "cell_type": "code",
      "metadata": {
        "trusted": true,
        "id": "cZSy7BBy19ok",
        "colab_type": "code",
        "colab": {}
      },
      "source": [
        "# The department:\n",
        "soft_engs = hr_data.Department == 'Software Engineering'\n",
        "# Columns for analysis:\n",
        "relevant_info = ['Employee_Name', 'Age', 'Position', 'PayRate',\n",
        "                 'PerformanceScore', 'EmploymentStatus', 'EngagementSurvey']\n",
        "# Now, we select them and look at some relevant columns:\n",
        "hr_data.loc[soft_engs, relevant_info].sort_values('Age', ascending=False).set_index('Age')"
      ],
      "execution_count": null,
      "outputs": []
    },
    {
      "cell_type": "markdown",
      "metadata": {
        "id": "qm3t13e219os",
        "colab_type": "text"
      },
      "source": [
        "We now see that the outlier is Alex Sweetwater. \n",
        "\n",
        "He is the manager of the department, but his pay is registered as the lowest one. It is highly unlinkely that his pay rate is lower than his subordinates'. Also, the data doesn't point to bad performance. **It may be sensible to assume that this piece of information is actually *incorrect*, possibly due to input error.**"
      ]
    },
    {
      "cell_type": "markdown",
      "metadata": {
        "id": "f8jkzXbP19ot",
        "colab_type": "text"
      },
      "source": [
        "## Sharing the findings\n",
        " "
      ]
    },
    {
      "cell_type": "markdown",
      "metadata": {
        "id": "LLeYAnbaQNg3",
        "colab_type": "text"
      },
      "source": [
        "### 1. What are our best recruiting sources if we want to ensure a diverse organization?\n",
        "\n",
        "In order to answer this question, mainly on the variables in which the company has enormous lack of diversity."
      ]
    },
    {
      "cell_type": "markdown",
      "metadata": {
        "id": "EAcBbe_Z19ou",
        "colab_type": "text"
      },
      "source": [
        "### 2. Are there areas of the company where pay is not equitable?\n",
        "\n",
        "A deep analysis has showed some wage gaps inside departments:\n",
        "\n",
        "1. **At *IT/IS*, people of *two or more races* are paid significantly less than other workers in the same job position**. None of the data show a cause for that.\n",
        "\n",
        "2. **Women's income is lower overall.** The problem comes mainly from two sources:\n",
        "  - in *Production*, the least well-paid department, females outnumber males by some extent;\n",
        "  - in *Admin Offices*, the wage gap between genders is substantial, though the distribution isn't necessarily discriminatory.\n",
        "\n",
        "3. Most workers aged 50+ in *Production* work at lower-paid positions.\n",
        "\n",
        "\n",
        "\n",
        "\n"
      ]
    },
    {
      "cell_type": "markdown",
      "metadata": {
        "id": "xmEsauue19ov",
        "colab_type": "text"
      },
      "source": [
        "### 3. What is the overall diversity profile of the organization?\n",
        "\n",
        "Dental magic can be classified as a diverse company regarding many aspects.\n",
        "\n",
        "**Race**\n",
        "\n",
        "While more than half of the workforce is made of white people, we've seen before that the jobs are more well distributed along underrepresented groups than comparatively to official statistics in a national level. \n",
        "\n",
        "*Hispanics* get a slightly higher pay rate in average, whereas *American Indian or Alaska Natives* perform lower on that variable. Considering that these groups have only four members each, it is premature to conclude the divergence stems from any discriminatory treatment\n",
        "\n",
        "**Gender**\n",
        "\n",
        "The workforce is predominantly female. Additionally, Dental Magic is run by a woman. While these aspects are present, and could be seen as desirable in a world that favors hiring male workers for most positions, the organization still has some problems:\n",
        "\n",
        "\n"
      ]
    },
    {
      "cell_type": "markdown",
      "metadata": {
        "id": "LIaWujO1P2Ne",
        "colab_type": "text"
      },
      "source": [
        ""
      ]
    },
    {
      "cell_type": "code",
      "metadata": {
        "id": "MpIhJpEZP0go",
        "colab_type": "code",
        "colab": {}
      },
      "source": [
        ""
      ],
      "execution_count": null,
      "outputs": []
    }
  ]
}